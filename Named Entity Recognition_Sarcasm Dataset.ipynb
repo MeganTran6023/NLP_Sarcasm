{
 "cells": [
  {
   "cell_type": "markdown",
   "id": "b619360a",
   "metadata": {},
   "source": [
    "# Traning Dataset for Named Entity Recognition (NER)\n",
    "\n",
    "**Main goal:** \n",
    "* Compare acccuracy, precision of NER with that of Text Summary"
   ]
  },
  {
   "cell_type": "markdown",
   "id": "c6a402ff",
   "metadata": {},
   "source": [
    "# Analyze Data"
   ]
  },
  {
   "cell_type": "code",
   "execution_count": 2,
   "id": "af50d12e",
   "metadata": {},
   "outputs": [
    {
     "data": {
      "text/html": [
       "<div>\n",
       "<style scoped>\n",
       "    .dataframe tbody tr th:only-of-type {\n",
       "        vertical-align: middle;\n",
       "    }\n",
       "\n",
       "    .dataframe tbody tr th {\n",
       "        vertical-align: top;\n",
       "    }\n",
       "\n",
       "    .dataframe thead th {\n",
       "        text-align: right;\n",
       "    }\n",
       "</style>\n",
       "<table border=\"1\" class=\"dataframe\">\n",
       "  <thead>\n",
       "    <tr style=\"text-align: right;\">\n",
       "      <th></th>\n",
       "      <th>Y</th>\n",
       "      <th>text</th>\n",
       "    </tr>\n",
       "  </thead>\n",
       "  <tbody>\n",
       "    <tr>\n",
       "      <th>0</th>\n",
       "      <td>1</td>\n",
       "      <td>thirtysomething scientists unveil doomsday clo...</td>\n",
       "    </tr>\n",
       "    <tr>\n",
       "      <th>1</th>\n",
       "      <td>0</td>\n",
       "      <td>dem rep totally nails why congress is falling ...</td>\n",
       "    </tr>\n",
       "    <tr>\n",
       "      <th>2</th>\n",
       "      <td>0</td>\n",
       "      <td>eat your veggies 9 deliciously different recipes</td>\n",
       "    </tr>\n",
       "    <tr>\n",
       "      <th>3</th>\n",
       "      <td>1</td>\n",
       "      <td>inclement weather prevents liar from getting t...</td>\n",
       "    </tr>\n",
       "    <tr>\n",
       "      <th>4</th>\n",
       "      <td>1</td>\n",
       "      <td>mother comes pretty close to using word stream...</td>\n",
       "    </tr>\n",
       "    <tr>\n",
       "      <th>...</th>\n",
       "      <td>...</td>\n",
       "      <td>...</td>\n",
       "    </tr>\n",
       "    <tr>\n",
       "      <th>20028</th>\n",
       "      <td>1</td>\n",
       "      <td>tollbooth attendant wishes just one high speed...</td>\n",
       "    </tr>\n",
       "    <tr>\n",
       "      <th>20029</th>\n",
       "      <td>0</td>\n",
       "      <td>emotional intelligence needs moral rudder</td>\n",
       "    </tr>\n",
       "    <tr>\n",
       "      <th>20030</th>\n",
       "      <td>1</td>\n",
       "      <td>man putting off starting family to focus on tr...</td>\n",
       "    </tr>\n",
       "    <tr>\n",
       "      <th>20031</th>\n",
       "      <td>0</td>\n",
       "      <td>the 8 most important lessons from my first yea...</td>\n",
       "    </tr>\n",
       "    <tr>\n",
       "      <th>20032</th>\n",
       "      <td>1</td>\n",
       "      <td>priscilla chan leaves mark zuckerberg for onio...</td>\n",
       "    </tr>\n",
       "  </tbody>\n",
       "</table>\n",
       "<p>20033 rows × 2 columns</p>\n",
       "</div>"
      ],
      "text/plain": [
       "       Y                                               text\n",
       "0      1  thirtysomething scientists unveil doomsday clo...\n",
       "1      0  dem rep totally nails why congress is falling ...\n",
       "2      0   eat your veggies 9 deliciously different recipes\n",
       "3      1  inclement weather prevents liar from getting t...\n",
       "4      1  mother comes pretty close to using word stream...\n",
       "...   ..                                                ...\n",
       "20028  1  tollbooth attendant wishes just one high speed...\n",
       "20029  0          emotional intelligence needs moral rudder\n",
       "20030  1  man putting off starting family to focus on tr...\n",
       "20031  0  the 8 most important lessons from my first yea...\n",
       "20032  1  priscilla chan leaves mark zuckerberg for onio...\n",
       "\n",
       "[20033 rows x 2 columns]"
      ]
     },
     "execution_count": 2,
     "metadata": {},
     "output_type": "execute_result"
    }
   ],
   "source": [
    "# training data\n",
    "import pandas as pd\n",
    "import numpy as np\n",
    "\n",
    "pd.options.display.max_columns\n",
    "\n",
    "df_train = pd.read_csv(\"train.csv\")\n",
    "df_train"
   ]
  },
  {
   "cell_type": "code",
   "execution_count": 4,
   "id": "d6d7e96c",
   "metadata": {},
   "outputs": [
    {
     "data": {
      "text/plain": [
       "(20033, 2)"
      ]
     },
     "execution_count": 4,
     "metadata": {},
     "output_type": "execute_result"
    }
   ],
   "source": [
    "#get number of points\n",
    "\n",
    "df_train.shape"
   ]
  },
  {
   "cell_type": "markdown",
   "id": "522a1337",
   "metadata": {},
   "source": [
    "Results below show near 50:50 data split, so fair classification training set for our model"
   ]
  },
  {
   "cell_type": "code",
   "execution_count": 5,
   "id": "908c1c12",
   "metadata": {
    "scrolled": true
   },
   "outputs": [
    {
     "data": {
      "image/png": "[encoded data removed]",
      "text/plain": [
       "<Figure size 600x500 with 1 Axes>"
      ]
     },
     "metadata": {},
     "output_type": "display_data"
    }
   ],
   "source": [
    "#distribution of sarcasm/non-sarcasm\n",
    "import matplotlib.pyplot as plt\n",
    "\n",
    "# Assuming the first column contains the labels (good or bad)\n",
    "labels = df_train.iloc[:, 0]\n",
    "\n",
    "# Count the number of SARCASTIC/NONSARCASTIC\n",
    "nonsarcastic = (labels == 0).sum()\n",
    "sarcastic = (labels == 1).sum()\n",
    "\n",
    "# Create a list for categories\n",
    "categories = [\"nonsarcastic\", \"sarcastic\"]\n",
    "\n",
    "# Create a list for counts\n",
    "counts = [nonsarcastic, sarcastic]\n",
    "\n",
    "# Create the bar chart\n",
    "plt.figure(figsize=(6, 5)) \n",
    "plt.bar(categories, counts, color=['skyblue', 'lightpink'])  \n",
    "plt.xlabel(\"Label\")\n",
    "plt.ylabel(\"Count\")\n",
    "plt.title(\"Number of Nonsarcastic and Sarcastic Comments\")\n",
    "plt.xticks(rotation=0)  \n",
    "plt.tight_layout()\n",
    "\n",
    "\n",
    "plt.show()"
   ]
  }
 ],
 "metadata": {
  "kernelspec": {
   "display_name": "Python 3 (ipykernel)",
   "language": "python",
   "name": "python3"
  },
  "language_info": {
   "codemirror_mode": {
    "name": "ipython",
    "version": 3
   },
   "file_extension": ".py",
   "mimetype": "text/x-python",
   "name": "python",
   "nbconvert_exporter": "python",
   "pygments_lexer": "ipython3",
   "version": "3.10.9"
  }
 },
 "nbformat": 4,
 "nbformat_minor": 5
}
