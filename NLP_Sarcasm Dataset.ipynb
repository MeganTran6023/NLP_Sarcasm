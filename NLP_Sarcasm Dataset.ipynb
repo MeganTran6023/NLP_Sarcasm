{
 "cells": [
  {
   "cell_type": "markdown",
   "id": "01dfc24e",
   "metadata": {},
   "source": [
    "# Purpose of Project: \n",
    "\n",
    "Sarcasm is something we use in face-to-face conversations to make light of a situation or joke around with friends. We know something/someone is sarcastic from their facial expressions, tone of voice, and perhaps the way they phrase their sentiments. However, this is dificult to detect over text or other forms of media since there is only the physical text we have. Because of this, people mistakenly misunderstand one another which leads to uneccesary conflicts. \n",
    "\n",
    "By creating this NLP project, I hope to identify a effective way to determine sarcastic comments by identifying what words are common in sarcastic comments. I will first run a portion of the dataset to train my model to learn words common in sarcastic comments then run a new batch of the sarcastic comments dataset to see if my theory holds true. </br>\n",
    "\n",
    "**7/15** </br>\n",
    "Improved accuracy of Random Forest from 59% to 61% after hyperparameter tuning of Random Forest\n",
    "</br>\n",
    "\n",
    "**7/16** </br>\n",
    "Improved training accuracy of Random Forest from 61 to ~62% after hyperparameter tuning of TF IDF parameters\n",
    "</br>"
   ]
  },
  {
   "cell_type": "markdown",
   "id": "b619360a",
   "metadata": {},
   "source": [
    "# Traning Dataset\n",
    "\n"
   ]
  },
  {
   "cell_type": "markdown",
   "id": "c6a402ff",
   "metadata": {},
   "source": [
    "# Analyze Data\n",
    "\n",
    "Used condensed dataset to save time and better focus on model hyperparameter tuning."
   ]
  },
  {
   "cell_type": "code",
   "execution_count": 1,
   "id": "af50d12e",
   "metadata": {},
   "outputs": [],
   "source": [
    "# training data\n",
    "import pandas as pd\n",
    "import numpy as np\n",
    "\n",
    "# pd.options.display.max_columns\n",
    "# pd.set_option(\"display.max_colwidth\",-1)\n",
    "\n",
    "# df_train = pd.read_csv(\"train.csv\")\n",
    "# df_train"
   ]
  },
  {
   "cell_type": "code",
   "execution_count": 2,
   "id": "1c941680",
   "metadata": {},
   "outputs": [],
   "source": [
    "# #get subsample\n",
    "# import pandas as pd\n",
    "# import numpy as np\n",
    "\n",
    "# # Get 1000 random samples without replacement\n",
    "# df_train = df_train.sample(n=1000, random_state=42)  # Set random_state for reproducibility\n",
    "\n",
    "# df_train\n"
   ]
  },
  {
   "cell_type": "code",
   "execution_count": 3,
   "id": "b5f3629b",
   "metadata": {},
   "outputs": [
    {
     "name": "stdout",
     "output_type": "stream",
     "text": [
      "train_sample.csv is saved. This is randomized subsample of full dataset.\n"
     ]
    }
   ],
   "source": [
    "# Save the sample to a new CSV file\n",
    "# df_train.to_csv(\"train_sample.csv\", index=False)\n",
    "print(\"train_sample.csv is saved. This is randomized subsample of full dataset.\")"
   ]
  },
  {
   "cell_type": "code",
   "execution_count": 4,
   "id": "d20ea4f7",
   "metadata": {},
   "outputs": [
    {
     "data": {
      "text/html": [
       "<div>\n",
       "<style scoped>\n",
       "    .dataframe tbody tr th:only-of-type {\n",
       "        vertical-align: middle;\n",
       "    }\n",
       "\n",
       "    .dataframe tbody tr th {\n",
       "        vertical-align: top;\n",
       "    }\n",
       "\n",
       "    .dataframe thead th {\n",
       "        text-align: right;\n",
       "    }\n",
       "</style>\n",
       "<table border=\"1\" class=\"dataframe\">\n",
       "  <thead>\n",
       "    <tr style=\"text-align: right;\">\n",
       "      <th></th>\n",
       "      <th>Y</th>\n",
       "      <th>text</th>\n",
       "    </tr>\n",
       "  </thead>\n",
       "  <tbody>\n",
       "    <tr>\n",
       "      <th>0</th>\n",
       "      <td>1</td>\n",
       "      <td>podcaster makes solemn promise to improve soun...</td>\n",
       "    </tr>\n",
       "    <tr>\n",
       "      <th>1</th>\n",
       "      <td>1</td>\n",
       "      <td>tsa agent can bring himself to make dad take o...</td>\n",
       "    </tr>\n",
       "    <tr>\n",
       "      <th>2</th>\n",
       "      <td>1</td>\n",
       "      <td>law schools now require applicants to honestly...</td>\n",
       "    </tr>\n",
       "    <tr>\n",
       "      <th>3</th>\n",
       "      <td>1</td>\n",
       "      <td>r stine reveals slappy from night of the livin...</td>\n",
       "    </tr>\n",
       "    <tr>\n",
       "      <th>4</th>\n",
       "      <td>0</td>\n",
       "      <td>psychic helps sniff out missing pet skunk</td>\n",
       "    </tr>\n",
       "    <tr>\n",
       "      <th>...</th>\n",
       "      <td>...</td>\n",
       "      <td>...</td>\n",
       "    </tr>\n",
       "    <tr>\n",
       "      <th>995</th>\n",
       "      <td>1</td>\n",
       "      <td>bank of america introduces new 50 underdraft fee</td>\n",
       "    </tr>\n",
       "    <tr>\n",
       "      <th>996</th>\n",
       "      <td>1</td>\n",
       "      <td>man just going to assume this counts as minced</td>\n",
       "    </tr>\n",
       "    <tr>\n",
       "      <th>997</th>\n",
       "      <td>1</td>\n",
       "      <td>report more americans willing to accept female...</td>\n",
       "    </tr>\n",
       "    <tr>\n",
       "      <th>998</th>\n",
       "      <td>1</td>\n",
       "      <td>lemur fantasizes about ripping face off next d...</td>\n",
       "    </tr>\n",
       "    <tr>\n",
       "      <th>999</th>\n",
       "      <td>1</td>\n",
       "      <td>nation homophobic bigots pack it in</td>\n",
       "    </tr>\n",
       "  </tbody>\n",
       "</table>\n",
       "<p>1000 rows × 2 columns</p>\n",
       "</div>"
      ],
      "text/plain": [
       "     Y                                               text\n",
       "0    1  podcaster makes solemn promise to improve soun...\n",
       "1    1  tsa agent can bring himself to make dad take o...\n",
       "2    1  law schools now require applicants to honestly...\n",
       "3    1  r stine reveals slappy from night of the livin...\n",
       "4    0          psychic helps sniff out missing pet skunk\n",
       "..  ..                                                ...\n",
       "995  1   bank of america introduces new 50 underdraft fee\n",
       "996  1    man just going to assume this counts as minced \n",
       "997  1  report more americans willing to accept female...\n",
       "998  1  lemur fantasizes about ripping face off next d...\n",
       "999  1                nation homophobic bigots pack it in\n",
       "\n",
       "[1000 rows x 2 columns]"
      ]
     },
     "execution_count": 4,
     "metadata": {},
     "output_type": "execute_result"
    }
   ],
   "source": [
    "title = \"train_sample.csv\"\n",
    "df_train = pd.read_csv(title)\n",
    "df_train"
   ]
  },
  {
   "cell_type": "code",
   "execution_count": 5,
   "id": "70671ff6",
   "metadata": {},
   "outputs": [
    {
     "data": {
      "text/plain": [
       "Y       0\n",
       "text    0\n",
       "dtype: int64"
      ]
     },
     "execution_count": 5,
     "metadata": {},
     "output_type": "execute_result"
    }
   ],
   "source": [
    "# Identify any na values\n",
    "count_na = df_train.isnull().sum()\n",
    "count_na"
   ]
  },
  {
   "cell_type": "code",
   "execution_count": 6,
   "id": "d6d7e96c",
   "metadata": {},
   "outputs": [
    {
     "data": {
      "text/plain": [
       "(1000, 2)"
      ]
     },
     "execution_count": 6,
     "metadata": {},
     "output_type": "execute_result"
    }
   ],
   "source": [
    "#get number of points\n",
    "\n",
    "df_train.shape"
   ]
  },
  {
   "cell_type": "markdown",
   "id": "522a1337",
   "metadata": {},
   "source": [
    "Results below show near 50:50 data split, so fair classification training set for our model"
   ]
  },
  {
   "cell_type": "code",
   "execution_count": 7,
   "id": "908c1c12",
   "metadata": {
    "scrolled": true
   },
   "outputs": [
    {
     "data": {
      "image/png": "[encoded data removed]",
      "text/plain": [
       "<Figure size 600x500 with 1 Axes>"
      ]
     },
     "metadata": {},
     "output_type": "display_data"
    }
   ],
   "source": [
    "#distribution of sarcasm/non-sarcasm\n",
    "import matplotlib.pyplot as plt\n",
    "\n",
    "# Assuming the first column contains the labels (good or bad)\n",
    "labels = df_train.iloc[:, 0]\n",
    "\n",
    "# Count the number of SARCASTIC/NONSARCASTIC\n",
    "nonsarcastic = (labels == 0).sum()\n",
    "sarcastic = (labels == 1).sum()\n",
    "\n",
    "# Create a list for categories\n",
    "categories = [\"nonsarcastic\", \"sarcastic\"]\n",
    "\n",
    "# Create a list for counts\n",
    "counts = [nonsarcastic, sarcastic]\n",
    "\n",
    "# Create the bar chart\n",
    "plt.figure(figsize=(6, 5)) \n",
    "plt.bar(categories, counts, color=['skyblue', 'lightpink'])  \n",
    "plt.xlabel(\"Label\")\n",
    "plt.ylabel(\"Count\")\n",
    "plt.title(\"Number of Nonsarcastic and Sarcastic Comments\")\n",
    "plt.xticks(rotation=0)  \n",
    "plt.tight_layout()\n",
    "\n",
    "\n",
    "plt.show()"
   ]
  },
  {
   "cell_type": "code",
   "execution_count": 8,
   "id": "9392b0c8",
   "metadata": {},
   "outputs": [],
   "source": [
    "# preprocess\n",
    "#text feature engineer\n",
    "# one method? or ensemble?"
   ]
  },
  {
   "cell_type": "markdown",
   "id": "330a63a4",
   "metadata": {},
   "source": [
    "## Preprocessing"
   ]
  },
  {
   "cell_type": "markdown",
   "id": "be24513f",
   "metadata": {},
   "source": [
    "1) Tokenization\n",
    "\n",
    "chunk words in sentences into seperate entities."
   ]
  },
  {
   "cell_type": "code",
   "execution_count": 9,
   "id": "62a55462",
   "metadata": {},
   "outputs": [],
   "source": [
    "import os\n",
    "import nltk\n",
    "import nltk.corpus\n",
    "from nltk.corpus import stopwords\n",
    "from nltk.stem.porter import PorterStemmer\n",
    "\n",
    "\n",
    "ps = PorterStemmer()"
   ]
  },
  {
   "cell_type": "markdown",
   "id": "a57b66c6",
   "metadata": {},
   "source": [
    "2) Stemming\n",
    "\n",
    "Stemming - get root word (running -> run)\n",
    "\n",
    "Lemmentizing - root work from various forms of word (ran -> run , running -> run)\n",
    "\n",
    "Removing stop words"
   ]
  },
  {
   "cell_type": "code",
   "execution_count": 10,
   "id": "d275472a",
   "metadata": {},
   "outputs": [],
   "source": [
    "# finds important words in dataset tweets and stores them into array\n",
    "# drops stop words\n",
    "\n",
    "corpus = []\n",
    "import re\n",
    "\n",
    "#goes up to length of dataset\n",
    "for i in range(len(df_train[\"text\"])):\n",
    "    train_text = re.sub('[^a-zA-Z]',' ',df_train[\"text\"][i])\n",
    "    train_text = train_text.lower()\n",
    "    train_text = train_text.split()\n",
    "    clean_review = [ps.stem(word) for word in train_text if not word in set(stopwords.words('english'))]\n",
    "    clean_review = ' '.join(clean_review)\n",
    "    corpus.append(clean_review)\n",
    "    \n"
   ]
  },
  {
   "cell_type": "code",
   "execution_count": 11,
   "id": "1f79bb41",
   "metadata": {},
   "outputs": [
    {
     "data": {
      "text/plain": [
       "'podcast make solemn promis improv sound qualiti next episod'"
      ]
     },
     "execution_count": 11,
     "metadata": {},
     "output_type": "execute_result"
    }
   ],
   "source": [
    "# view cleaned text first and second row\n",
    "corpus[0]\n"
   ]
  },
  {
   "cell_type": "code",
   "execution_count": 12,
   "id": "c52d202d",
   "metadata": {
    "scrolled": true
   },
   "outputs": [
    {
     "data": {
      "text/plain": [
       "'tsa agent bring make dad take comfi shoe'"
      ]
     },
     "execution_count": 12,
     "metadata": {},
     "output_type": "execute_result"
    }
   ],
   "source": [
    "corpus[1]"
   ]
  },
  {
   "cell_type": "markdown",
   "id": "ebdb2c67",
   "metadata": {},
   "source": [
    "3) Text Feature Extraction\n",
    "\n",
    "This step includes converting the comments themselves to numerical data. I used TF-IDF (Term Frequency-Inverse Document Frequency), which gives a value to each word in a text from 0 to 1 to determine its importance. Other feature extraction methods can be used [here](https://medium.com/@eskandar.sahel/exploring-feature-extraction-techniques-for-natural-language-processing-46052ee6514)\n",
    "\n",
    "Why I used TF-IDF: it determines importance of word in my collection of texts based on its frequency in both the singular text and collection of texts. This also accounts for all words by assigning them a value ranging from 0 - 1 instead of prioritizing top x words.</br>\n",
    "\n",
    "[Documentation](https://scikit-learn.org/stable/modules/generated/sklearn.feature_extraction.text.TfidfVectorizer.html)\n"
   ]
  },
  {
   "cell_type": "code",
   "execution_count": 13,
   "id": "01760ff3",
   "metadata": {},
   "outputs": [],
   "source": [
    "# #method 1 - from my COVID_Tweet_NLP project\n",
    "\n",
    "# from sklearn.feature_extraction.text import TfidfVectorizer\n",
    "# vectorizer = TfidfVectorizer(max_features=2000, min_df=2, max_df = .6) #means \"ignore terms that appear in less than 2 messages\". use integer or decimal (percentage)?\n",
    "# #max_features = how many words we want to collect\n",
    "# #max_df = gets rid of words occuring in x% of documents\n",
    "\n",
    "# X = vectorizer.fit_transform(corpus).toarray() #comments to number\n",
    "\n",
    "# X"
   ]
  },
  {
   "cell_type": "markdown",
   "id": "0dac3ead",
   "metadata": {},
   "source": [
    "This will serve as my control since no parameters were define in the TfidVectorizer. I will compare the accuracy with another TfidVectorizer with established parameters "
   ]
  },
  {
   "cell_type": "code",
   "execution_count": 14,
   "id": "ed05f28a",
   "metadata": {},
   "outputs": [
    {
     "name": "stdout",
     "output_type": "stream",
     "text": [
      "TF-IDF:\n",
      "['ab' 'abandon' 'abba' 'abomin' 'abort' 'abram' 'absenc' 'absolut' 'abu'\n",
      " 'academ']\n",
      "[0. 0. 0. 0. 0. 0. 0. 0. 0. 0.]\n"
     ]
    }
   ],
   "source": [
    "# #method 2 - from eskandar.sahel\n",
    "\n",
    "from sklearn.feature_extraction.text import TfidfVectorizer\n",
    "\n",
    "# TF-IDF\n",
    "tfidf_vec = TfidfVectorizer() #control hyperparameter tunings\n",
    "X_tfidf = tfidf_vec.fit_transform(corpus)\n",
    "print('TF-IDF:')\n",
    "print(tfidf_vec.get_feature_names_out()[:10])\n",
    "print(X_tfidf.toarray()[0][:10])\n",
    "\n",
    "X = tfidf_vec.fit_transform(corpus).toarray()"
   ]
  },
  {
   "cell_type": "code",
   "execution_count": 15,
   "id": "e752c39e",
   "metadata": {
    "scrolled": true
   },
   "outputs": [
    {
     "data": {
      "text/plain": [
       "array([1, 1, 1, 1, 0, 0, 1, 0, 0, 0, 0, 0, 0, 0, 1, 1, 1, 1, 0, 1, 1, 1,\n",
       "       1, 0, 0, 1, 0, 1, 1, 0, 0, 0, 1, 0, 0, 1, 1, 1, 1, 0, 0, 1, 0, 0,\n",
       "       1, 1, 1, 0, 1, 1, 1, 0, 1, 0, 1, 1, 0, 0, 0, 1, 0, 0, 0, 0, 1, 0,\n",
       "       1, 1, 0, 1, 1, 0, 1, 0, 0, 0, 1, 0, 1, 1, 0, 0, 1, 0, 0, 1, 0, 0,\n",
       "       0, 1, 1, 1, 0, 1, 0, 0, 0, 0, 1, 0, 0, 1, 0, 1, 0, 0, 0, 1, 0, 0,\n",
       "       1, 0, 0, 1, 1, 0, 0, 0, 1, 1, 1, 1, 1, 1, 1, 1, 0, 0, 0, 1, 1, 1,\n",
       "       0, 0, 0, 0, 0, 0, 1, 0, 0, 0, 1, 1, 0, 1, 0, 0, 0, 1, 0, 0, 0, 0,\n",
       "       1, 1, 1, 1, 0, 1, 0, 1, 1, 0, 1, 0, 0, 1, 0, 0, 1, 1, 0, 0, 0, 0,\n",
       "       1, 1, 0, 1, 1, 0, 0, 0, 0, 0, 1, 1, 0, 1, 1, 0, 0, 0, 1, 1, 1, 1,\n",
       "       1, 0, 0, 0, 1, 0, 1, 0, 1, 1, 1, 1, 0, 1, 0, 0, 1, 1, 0, 1, 0, 0,\n",
       "       0, 1, 1, 1, 1, 1, 1, 0, 0, 1, 0, 0, 1, 1, 1, 1, 1, 1, 0, 1, 1, 0,\n",
       "       0, 0, 0, 0, 0, 0, 1, 1, 0, 0, 1, 1, 0, 1, 1, 0, 0, 1, 0, 0, 1, 0,\n",
       "       1, 0, 1, 0, 1, 0, 1, 0, 0, 1, 0, 1, 1, 0, 1, 0, 1, 0, 1, 1, 1, 1,\n",
       "       0, 0, 0, 0, 0, 1, 1, 1, 0, 0, 0, 0, 0, 1, 1, 1, 1, 0, 0, 0, 0, 0,\n",
       "       0, 0, 0, 1, 1, 0, 0, 1, 0, 1, 0, 1, 1, 0, 0, 1, 0, 1, 1, 0, 1, 1,\n",
       "       1, 0, 0, 0, 0, 1, 0, 1, 1, 0, 0, 0, 1, 1, 0, 0, 0, 1, 0, 0, 1, 0,\n",
       "       1, 0, 0, 0, 1, 0, 1, 1, 1, 1, 1, 0, 0, 1, 0, 1, 1, 1, 1, 1, 0, 1,\n",
       "       1, 1, 1, 0, 0, 0, 1, 0, 1, 1, 1, 1, 0, 1, 0, 1, 0, 0, 1, 0, 1, 0,\n",
       "       1, 0, 1, 0, 1, 0, 1, 1, 0, 0, 0, 1, 0, 1, 1, 1, 0, 0, 1, 1, 1, 1,\n",
       "       1, 0, 1, 0, 0, 0, 1, 1, 0, 1, 1, 1, 0, 0, 0, 0, 1, 0, 1, 1, 0, 1,\n",
       "       1, 0, 1, 0, 0, 1, 1, 0, 1, 0, 0, 1, 0, 0, 1, 1, 0, 1, 0, 1, 0, 1,\n",
       "       1, 0, 1, 1, 0, 1, 0, 1, 0, 1, 1, 0, 0, 1, 1, 0, 0, 1, 0, 1, 0, 0,\n",
       "       0, 0, 1, 0, 0, 1, 0, 1, 1, 1, 1, 0, 1, 1, 0, 1, 0, 1, 0, 0, 1, 0,\n",
       "       0, 0, 0, 1, 1, 0, 0, 1, 1, 0, 0, 0, 0, 0, 0, 1, 0, 0, 0, 1, 1, 0,\n",
       "       1, 0, 0, 1, 1, 1, 1, 0, 0, 0, 1, 0, 1, 1, 0, 1, 1, 1, 1, 0, 0, 0,\n",
       "       1, 1, 1, 0, 1, 0, 1, 0, 0, 1, 0, 1, 0, 0, 1, 0, 0, 1, 1, 0, 1, 1,\n",
       "       0, 1, 1, 0, 0, 0, 0, 1, 0, 1, 0, 1, 0, 1, 1, 0, 1, 0, 1, 0, 1, 0,\n",
       "       1, 1, 1, 0, 0, 1, 1, 1, 0, 0, 0, 0, 1, 0, 0, 0, 0, 1, 1, 0, 0, 0,\n",
       "       1, 1, 0, 0, 0, 1, 0, 0, 0, 1, 0, 1, 0, 0, 1, 1, 0, 1, 1, 0, 0, 1,\n",
       "       1, 0, 1, 0, 1, 0, 0, 1, 0, 0, 0, 1, 1, 0, 0, 0, 1, 1, 1, 1, 1, 1,\n",
       "       1, 1, 0, 1, 1, 1, 0, 1, 0, 0, 0, 0, 1, 1, 1, 1, 1, 1, 1, 0, 0, 1,\n",
       "       1, 0, 0, 1, 1, 1, 1, 0, 0, 1, 0, 0, 0, 0, 0, 0, 0, 0, 0, 0, 1, 1,\n",
       "       0, 0, 0, 0, 1, 0, 0, 1, 1, 1, 0, 1, 1, 1, 0, 1, 1, 0, 1, 1, 0, 0,\n",
       "       1, 0, 1, 1, 0, 0, 0, 1, 0, 1, 1, 0, 1, 0, 0, 0, 0, 1, 0, 1, 0, 0,\n",
       "       1, 0, 0, 0, 1, 1, 1, 0, 0, 1, 0, 1, 0, 1, 0, 1, 1, 0, 1, 0, 0, 1,\n",
       "       0, 0, 1, 1, 0, 1, 1, 1, 0, 1, 1, 0, 1, 1, 1, 1, 1, 1, 1, 0, 0, 0,\n",
       "       0, 0, 0, 0, 0, 1, 0, 0, 0, 0, 1, 0, 0, 1, 1, 0, 0, 0, 1, 1, 0, 0,\n",
       "       0, 0, 0, 1, 0, 1, 0, 0, 1, 1, 1, 0, 1, 1, 0, 0, 0, 1, 0, 0, 0, 1,\n",
       "       1, 1, 1, 0, 0, 0, 0, 1, 0, 1, 0, 0, 0, 1, 0, 0, 0, 1, 1, 0, 1, 0,\n",
       "       0, 0, 0, 0, 0, 1, 1, 1, 0, 0, 1, 1, 0, 0, 0, 0, 0, 0, 0, 1, 0, 0,\n",
       "       1, 0, 0, 0, 0, 0, 0, 1, 1, 1, 0, 1, 0, 1, 0, 0, 1, 0, 0, 1, 0, 0,\n",
       "       1, 1, 1, 0, 1, 0, 0, 1, 0, 0, 1, 1, 0, 0, 0, 1, 1, 0, 1, 1, 0, 1,\n",
       "       0, 1, 0, 1, 0, 0, 1, 1, 0, 1, 1, 1, 1, 0, 0, 0, 1, 1, 1, 1, 1, 0,\n",
       "       0, 1, 0, 0, 0, 0, 1, 1, 1, 0, 1, 1, 1, 1, 1, 1, 1, 0, 1, 0, 1, 0,\n",
       "       0, 1, 0, 1, 1, 1, 0, 0, 1, 1, 1, 1, 1, 0, 0, 1, 0, 1, 0, 0, 0, 1,\n",
       "       1, 0, 1, 0, 0, 1, 1, 1, 1, 1], dtype=int64)"
      ]
     },
     "execution_count": 15,
     "metadata": {},
     "output_type": "execute_result"
    }
   ],
   "source": [
    "y = df_train.iloc[ : , 0].values\n",
    "y"
   ]
  },
  {
   "attachments": {
    "image.png": {
     "image/png": "[encoded data removed]"
    }
   },
   "cell_type": "markdown",
   "id": "a26894b0",
   "metadata": {},
   "source": [
    "## Running Preprocessed Data - Random Forrest (RF)\n",
    "\n",
    "Why use RF: It makes multiple trees that model out the many different paths it can take to classify input material. The classification that the most number of decision treees lead to is the final classification that the model predicts.\n",
    "![image.png](attachment:image.png)\n",
    "\n",
    "Credit: Datacamp"
   ]
  },
  {
   "cell_type": "code",
   "execution_count": 17,
   "id": "0eee9226",
   "metadata": {},
   "outputs": [],
   "source": [
    "from sklearn.ensemble import RandomForestClassifier\n",
    "from sklearn.model_selection import cross_val_score\n",
    "# cross validation score\n",
    "labels = df_train.Y\n",
    "models = [\n",
    "    RandomForestClassifier(n_estimators=100, max_depth=5, random_state=0),\n",
    "]\n",
    "\n",
    "#n_estimators = number of trees made before making a decision \n",
    "\n",
    "cross_value_scored = []\n",
    "for model in models:\n",
    "    model_name = model.__class__.__name__\n",
    "    accuracies= cross_val_score(model, X, labels, scoring = 'accuracy', cv = 5)\n",
    "    for accuracy in accuracies:\n",
    "        cross_value_scored.append((model_name, accuracy))"
   ]
  },
  {
   "cell_type": "code",
   "execution_count": 18,
   "id": "bf159aae",
   "metadata": {
    "scrolled": true
   },
   "outputs": [
    {
     "data": {
      "text/html": [
       "<div>\n",
       "<style scoped>\n",
       "    .dataframe tbody tr th:only-of-type {\n",
       "        vertical-align: middle;\n",
       "    }\n",
       "\n",
       "    .dataframe tbody tr th {\n",
       "        vertical-align: top;\n",
       "    }\n",
       "\n",
       "    .dataframe thead th {\n",
       "        text-align: right;\n",
       "    }\n",
       "</style>\n",
       "<table border=\"1\" class=\"dataframe\">\n",
       "  <thead>\n",
       "    <tr style=\"text-align: right;\">\n",
       "      <th></th>\n",
       "      <th>Mean Accuracy</th>\n",
       "      <th>Standard deviation</th>\n",
       "    </tr>\n",
       "    <tr>\n",
       "      <th>model_name</th>\n",
       "      <th></th>\n",
       "      <th></th>\n",
       "    </tr>\n",
       "  </thead>\n",
       "  <tbody>\n",
       "    <tr>\n",
       "      <th>RandomForestClassifier</th>\n",
       "      <td>0.598</td>\n",
       "      <td>0.035107</td>\n",
       "    </tr>\n",
       "  </tbody>\n",
       "</table>\n",
       "</div>"
      ],
      "text/plain": [
       "                        Mean Accuracy  Standard deviation\n",
       "model_name                                               \n",
       "RandomForestClassifier          0.598            0.035107"
      ]
     },
     "execution_count": 18,
     "metadata": {},
     "output_type": "execute_result"
    }
   ],
   "source": [
    "# make a dataframe of cross_val_scor\n",
    "df_cv = pd.DataFrame(cross_value_scored, columns =['model_name', 'accuracy'])\n",
    "acc = pd.concat([df_cv.groupby('model_name').accuracy.mean(),df_cv.groupby('model_name').accuracy.std()], axis= 1,ignore_index=True)\n",
    "acc.columns = ['Mean Accuracy', 'Standard deviation']\n",
    "acc"
   ]
  },
  {
   "cell_type": "markdown",
   "id": "3269949a",
   "metadata": {},
   "source": [
    "--------------"
   ]
  },
  {
   "cell_type": "markdown",
   "id": "5cb29736",
   "metadata": {},
   "source": [
    "# Changing Parameters in TfidfVectorizer\n",
    "\n",
    "max_df: removes words that appear too frequently - term that appears in less than x% of documents is kept\n",
    "\n",
    "min_df: removes words that appear too infrequently - term that appears in at least x documents is kept\n",
    "\n",
    "max_features: The most number of features a model will consider \n",
    "\n",
    "Parameters changed: tfidf_vec = TfidfVectorizer(min_df=20,max_df = .8)</br>\n",
    "\n",
    "**7/16**</br>\n",
    "\n",
    "I used L2 because I wanted to analyze the relative importance of certain words in texts. But I will test with L1 and L2.</br>\n",
    "\n",
    "I also used ngram_range=(1,2) so model accounts for words alone and words in pairs to determine with ones ar eimportant parts in a text\n",
    "\n"
   ]
  },
  {
   "cell_type": "code",
   "execution_count": 42,
   "id": "e8bd604a",
   "metadata": {},
   "outputs": [
    {
     "name": "stdout",
     "output_type": "stream",
     "text": [
      "TF-IDF:\n",
      "['american' 'get' 'like' 'make' 'man' 'nation' 'new' 'peopl' 'report'\n",
      " 'say']\n",
      "[0. 0. 0. 1. 0. 0. 0. 0. 0. 0.]\n"
     ]
    }
   ],
   "source": [
    "#updated parameters\n",
    "\n",
    "# #method 2 - from eskandar.sahel\n",
    "\n",
    "from sklearn.feature_extraction.text import TfidfVectorizer\n",
    "\n",
    "# TF-IDF\n",
    "tfidf_vec = TfidfVectorizer(min_df=20,\n",
    "                            max_df = .8,\n",
    "                           norm='l2',\n",
    "                            ngram_range=(1,2),\n",
    "                            max_features = 5000\n",
    "                           ) #control hyperparameter tunings\n",
    "X_tfidf = tfidf_vec.fit_transform(corpus)\n",
    "print('TF-IDF:')\n",
    "print(tfidf_vec.get_feature_names_out()[:10])\n",
    "print(X_tfidf.toarray()[0][:10])\n",
    "\n",
    "X = tfidf_vec.fit_transform(corpus).toarray()"
   ]
  },
  {
   "cell_type": "markdown",
   "id": "3ddcfd3b",
   "metadata": {},
   "source": [
    "# Best Parameters in Random Forrest\n",
    "\n",
    "**Use hyperparameter grid or random search to find best values for chosen parameters**</br>\n",
    "\n",
    "I will decide between the two methods for determining the best hyperparameters for the randomforrestclassifier based on the accuracy output. I will also tweak some of the values in the predefined space before cross validation.</br>\n",
    "\n",
    "Grid search:</br>\n",
    "* Runs every parameter combinations to determine best ones\n",
    "* Takes up too much time and computationally expensive\n",
    "\n",
    "Random search:</br>\n",
    "* Runs random parameter combinations to determine best ones\n",
    "* More efficient\n",
    "\n",
    "-------\n",
    "\n",
    "**Notes about parameters**\n",
    "\n",
    "Bootstrapping: getting a random sample from data with replacement.\n",
    "\n",
    "max_features: considers number of features at each split in tree\n",
    "\n",
    "**Why max_features and min_samples_leaf?**\n",
    "\n",
    "Speed: Considering fewer features at each split can speed up the model training process.\n",
    "\n",
    "Preventing overfitting: Reducing the number of features can help prevent the model from becoming too complex and overfitting the training data.\n",
    "\n",
    "Improving generalization: By introducing randomness, max_features can help the model generalize better to unseen data.\n",
    "\n",
    "[Will Koehrsen- Hyperparameter Tuning the Random Forest in Python](https://towardsdatascience.com/hyperparameter-tuning-the-random-forest-in-python-using-scikit-learn-28d2aa77dd74)</br>\n",
    "\n",
    "https://stackoverflow.com/questions/64089009/how-can-i-tune-the-parameters-in-a-random-forest-classifier-inside-a-pipeline</br>\n",
    "\n",
    "[Natassha Selvaraj- \n",
    "Hyperparameter Tuning Using Grid Search and Random Search in Python](https://www.kdnuggets.com/2022/10/hyperparameter-tuning-grid-search-random-search-python.html)"
   ]
  },
  {
   "cell_type": "markdown",
   "id": "69a93da5",
   "metadata": {},
   "source": [
    "From documentation:<br /> \n",
    "\n",
    "**Verbose:**<br /> \n",
    "verbose=0: Silent mode - no output during training.<br /> \n",
    "verbose=1: Progress bar mode - displays a progress bar with training and validation metrics (default).<br /> \n",
    "verbose=2: One line per epoch - shows a summary of training and validation metrics after each epoch.<br /> \n",
    "\n",
    "**n_jobs**<br /> \n",
    "set to -1 to activate parallel processing, speeds up process <br /> \n",
    "\n",
    "**criterion**<br /> \n",
    "\n",
    "gini: provides probability model will misclassify some item in a set<br /> \n",
    "entropy: measures amount of randomness in a set, computationally expensive<br /> "
   ]
  },
  {
   "cell_type": "code",
   "execution_count": 43,
   "id": "1a8b0bff",
   "metadata": {},
   "outputs": [
    {
     "name": "stdout",
     "output_type": "stream",
     "text": [
      "Fitting 3 folds for each of 864 candidates, totalling 2592 fits\n"
     ]
    }
   ],
   "source": [
    "#grid search\n",
    "\n",
    "rf = RandomForestClassifier()\n",
    "\n",
    "grid_space={'max_depth':[3,5,10,None],\n",
    "              'n_estimators':[100,150,200],\n",
    "              'max_features':[1,3,5,7],\n",
    "              'min_samples_leaf':[1,2,3],\n",
    "              'min_samples_split':[1,2,3],\n",
    "            'criterion':['gini','entropy'],\n",
    "           }\n",
    "\n",
    "from sklearn.model_selection import GridSearchCV\n",
    "\n",
    "grid = GridSearchCV(rf,param_grid=grid_space,cv=3,scoring='accuracy',verbose=1,n_jobs=-1)\n",
    "model_grid = grid.fit(X,y)"
   ]
  },
  {
   "cell_type": "code",
   "execution_count": 44,
   "id": "919e91c0",
   "metadata": {
    "scrolled": true
   },
   "outputs": [
    {
     "name": "stdout",
     "output_type": "stream",
     "text": [
      "Best hyperparameters are: {'criterion': 'gini', 'max_depth': 3, 'max_features': 3, 'min_samples_leaf': 1, 'min_samples_split': 1, 'n_estimators': 200}\n",
      "Best score is: 0.6249902597207986\n"
     ]
    }
   ],
   "source": [
    "#output best parameters\n",
    "\n",
    "print('Best hyperparameters are: '+str(model_grid.best_params_))\n",
    "print('Best score is: '+str(model_grid.best_score_))"
   ]
  },
  {
   "cell_type": "code",
   "execution_count": 45,
   "id": "3ce100b6",
   "metadata": {},
   "outputs": [
    {
     "name": "stdout",
     "output_type": "stream",
     "text": [
      "Fitting 3 folds for each of 500 candidates, totalling 1500 fits\n"
     ]
    }
   ],
   "source": [
    "#Random search\n",
    "\n",
    "from scipy.stats import randint\n",
    "\n",
    "rs_space={'max_depth':list(np.arange(3, 100, step=10)) + [None],\n",
    "              'n_estimators':np.arange(10, 500, step=50),\n",
    "              'max_features':randint(1,7),\n",
    "              'criterion':['gini','entropy'],\n",
    "              'min_samples_leaf':randint(1,4),\n",
    "              'min_samples_split':np.arange(1, 10, step=1)\n",
    "         }\n",
    "\n",
    "from sklearn.model_selection import RandomizedSearchCV\n",
    "\n",
    "rf = RandomForestClassifier()\n",
    "rf_random = RandomizedSearchCV(rf, rs_space, n_iter=500, scoring='accuracy', n_jobs=-1, cv=3, verbose=1)\n",
    "model_random = rf_random.fit(X,y)"
   ]
  },
  {
   "cell_type": "code",
   "execution_count": 46,
   "id": "0d08deca",
   "metadata": {},
   "outputs": [
    {
     "name": "stdout",
     "output_type": "stream",
     "text": [
      "Best hyperparameters are: {'criterion': 'gini', 'max_depth': 3, 'max_features': 4, 'min_samples_leaf': 3, 'min_samples_split': 6, 'n_estimators': 210}\n",
      "Best score is: 0.6219872567177956\n"
     ]
    }
   ],
   "source": [
    "print('Best hyperparameters are: '+str(model_random.best_params_))\n",
    "print('Best score is: '+str(model_random.best_score_))"
   ]
  },
  {
   "cell_type": "markdown",
   "id": "d42bd8c3",
   "metadata": {},
   "source": [
    "## Run RandomForrestClassifier with Best Parameters"
   ]
  },
  {
   "cell_type": "code",
   "execution_count": 47,
   "id": "a113e932",
   "metadata": {},
   "outputs": [
    {
     "data": {
      "text/html": [
       "<div>\n",
       "<style scoped>\n",
       "    .dataframe tbody tr th:only-of-type {\n",
       "        vertical-align: middle;\n",
       "    }\n",
       "\n",
       "    .dataframe tbody tr th {\n",
       "        vertical-align: top;\n",
       "    }\n",
       "\n",
       "    .dataframe thead th {\n",
       "        text-align: right;\n",
       "    }\n",
       "</style>\n",
       "<table border=\"1\" class=\"dataframe\">\n",
       "  <thead>\n",
       "    <tr style=\"text-align: right;\">\n",
       "      <th></th>\n",
       "      <th>Mean Accuracy</th>\n",
       "      <th>Standard deviation</th>\n",
       "    </tr>\n",
       "    <tr>\n",
       "      <th>model_name</th>\n",
       "      <th></th>\n",
       "      <th></th>\n",
       "    </tr>\n",
       "  </thead>\n",
       "  <tbody>\n",
       "    <tr>\n",
       "      <th>RandomForestClassifier</th>\n",
       "      <td>0.616</td>\n",
       "      <td>0.018507</td>\n",
       "    </tr>\n",
       "  </tbody>\n",
       "</table>\n",
       "</div>"
      ],
      "text/plain": [
       "                        Mean Accuracy  Standard deviation\n",
       "model_name                                               \n",
       "RandomForestClassifier          0.616            0.018507"
      ]
     },
     "execution_count": 47,
     "metadata": {},
     "output_type": "execute_result"
    }
   ],
   "source": [
    "from sklearn.ensemble import RandomForestClassifier\n",
    "from sklearn.model_selection import cross_val_score\n",
    "# cross validation score\n",
    "labels = df_train.Y\n",
    "models = [\n",
    "    RandomForestClassifier(criterion= 'gini', \n",
    "                           max_depth= 3, \n",
    "                           max_features= 3, \n",
    "                           min_samples_leaf= 3, \n",
    "                           min_samples_split= 2, \n",
    "                           n_estimators= 150),\n",
    "]\n",
    "\n",
    "#n_estimators = number of trees made before making a decision \n",
    "\n",
    "cross_value_scored = []\n",
    "for model in models:\n",
    "    model_name = model.__class__.__name__\n",
    "    accuracies= cross_val_score(model, X, labels, scoring = 'accuracy', cv = 5)\n",
    "    for accuracy in accuracies:\n",
    "        cross_value_scored.append((model_name, accuracy))\n",
    "        \n",
    "# make a dataframe of cross_val_scor\n",
    "df_cv = pd.DataFrame(cross_value_scored, columns =['model_name', 'accuracy'])\n",
    "acc = pd.concat([df_cv.groupby('model_name').accuracy.mean(),df_cv.groupby('model_name').accuracy.std()], axis= 1,ignore_index=True)\n",
    "acc.columns = ['Mean Accuracy', 'Standard deviation']\n",
    "acc"
   ]
  },
  {
   "cell_type": "markdown",
   "id": "8aef1545",
   "metadata": {},
   "source": [
    "## Train Test Split "
   ]
  },
  {
   "cell_type": "code",
   "execution_count": 48,
   "id": "c7bd55e2",
   "metadata": {},
   "outputs": [],
   "source": [
    "from sklearn.model_selection import train_test_split\n",
    "X_train, X_test, y_train, y_test = train_test_split(X,y,test_size = .2, random_state = 42)"
   ]
  },
  {
   "cell_type": "code",
   "execution_count": 49,
   "id": "44ff4b5d",
   "metadata": {},
   "outputs": [
    {
     "data": {
      "text/html": [
       "<style>#sk-container-id-3 {color: black;background-color: white;}#sk-container-id-3 pre{padding: 0;}#sk-container-id-3 div.sk-toggleable {background-color: white;}#sk-container-id-3 label.sk-toggleable__label {cursor: pointer;display: block;width: 100%;margin-bottom: 0;padding: 0.3em;box-sizing: border-box;text-align: center;}#sk-container-id-3 label.sk-toggleable__label-arrow:before {content: \"▸\";float: left;margin-right: 0.25em;color: #696969;}#sk-container-id-3 label.sk-toggleable__label-arrow:hover:before {color: black;}#sk-container-id-3 div.sk-estimator:hover label.sk-toggleable__label-arrow:before {color: black;}#sk-container-id-3 div.sk-toggleable__content {max-height: 0;max-width: 0;overflow: hidden;text-align: left;background-color: #f0f8ff;}#sk-container-id-3 div.sk-toggleable__content pre {margin: 0.2em;color: black;border-radius: 0.25em;background-color: #f0f8ff;}#sk-container-id-3 input.sk-toggleable__control:checked~div.sk-toggleable__content {max-height: 200px;max-width: 100%;overflow: auto;}#sk-container-id-3 input.sk-toggleable__control:checked~label.sk-toggleable__label-arrow:before {content: \"▾\";}#sk-container-id-3 div.sk-estimator input.sk-toggleable__control:checked~label.sk-toggleable__label {background-color: #d4ebff;}#sk-container-id-3 div.sk-label input.sk-toggleable__control:checked~label.sk-toggleable__label {background-color: #d4ebff;}#sk-container-id-3 input.sk-hidden--visually {border: 0;clip: rect(1px 1px 1px 1px);clip: rect(1px, 1px, 1px, 1px);height: 1px;margin: -1px;overflow: hidden;padding: 0;position: absolute;width: 1px;}#sk-container-id-3 div.sk-estimator {font-family: monospace;background-color: #f0f8ff;border: 1px dotted black;border-radius: 0.25em;box-sizing: border-box;margin-bottom: 0.5em;}#sk-container-id-3 div.sk-estimator:hover {background-color: #d4ebff;}#sk-container-id-3 div.sk-parallel-item::after {content: \"\";width: 100%;border-bottom: 1px solid gray;flex-grow: 1;}#sk-container-id-3 div.sk-label:hover label.sk-toggleable__label {background-color: #d4ebff;}#sk-container-id-3 div.sk-serial::before {content: \"\";position: absolute;border-left: 1px solid gray;box-sizing: border-box;top: 0;bottom: 0;left: 50%;z-index: 0;}#sk-container-id-3 div.sk-serial {display: flex;flex-direction: column;align-items: center;background-color: white;padding-right: 0.2em;padding-left: 0.2em;position: relative;}#sk-container-id-3 div.sk-item {position: relative;z-index: 1;}#sk-container-id-3 div.sk-parallel {display: flex;align-items: stretch;justify-content: center;background-color: white;position: relative;}#sk-container-id-3 div.sk-item::before, #sk-container-id-3 div.sk-parallel-item::before {content: \"\";position: absolute;border-left: 1px solid gray;box-sizing: border-box;top: 0;bottom: 0;left: 50%;z-index: -1;}#sk-container-id-3 div.sk-parallel-item {display: flex;flex-direction: column;z-index: 1;position: relative;background-color: white;}#sk-container-id-3 div.sk-parallel-item:first-child::after {align-self: flex-end;width: 50%;}#sk-container-id-3 div.sk-parallel-item:last-child::after {align-self: flex-start;width: 50%;}#sk-container-id-3 div.sk-parallel-item:only-child::after {width: 0;}#sk-container-id-3 div.sk-dashed-wrapped {border: 1px dashed gray;margin: 0 0.4em 0.5em 0.4em;box-sizing: border-box;padding-bottom: 0.4em;background-color: white;}#sk-container-id-3 div.sk-label label {font-family: monospace;font-weight: bold;display: inline-block;line-height: 1.2em;}#sk-container-id-3 div.sk-label-container {text-align: center;}#sk-container-id-3 div.sk-container {/* jupyter's `normalize.less` sets `[hidden] { display: none; }` but bootstrap.min.css set `[hidden] { display: none !important; }` so we also need the `!important` here to be able to override the default hidden behavior on the sphinx rendered scikit-learn.org. See: https://github.com/scikit-learn/scikit-learn/issues/21755 */display: inline-block !important;position: relative;}#sk-container-id-3 div.sk-text-repr-fallback {display: none;}</style><div id=\"sk-container-id-3\" class=\"sk-top-container\"><div class=\"sk-text-repr-fallback\"><pre>RandomForestClassifier(max_depth=5, max_features=5, min_samples_leaf=5,\n",
       "                       n_estimators=1000)</pre><b>In a Jupyter environment, please rerun this cell to show the HTML representation or trust the notebook. <br />On GitHub, the HTML representation is unable to render, please try loading this page with nbviewer.org.</b></div><div class=\"sk-container\" hidden><div class=\"sk-item\"><div class=\"sk-estimator sk-toggleable\"><input class=\"sk-toggleable__control sk-hidden--visually\" id=\"sk-estimator-id-3\" type=\"checkbox\" checked><label for=\"sk-estimator-id-3\" class=\"sk-toggleable__label sk-toggleable__label-arrow\">RandomForestClassifier</label><div class=\"sk-toggleable__content\"><pre>RandomForestClassifier(max_depth=5, max_features=5, min_samples_leaf=5,\n",
       "                       n_estimators=1000)</pre></div></div></div></div></div>"
      ],
      "text/plain": [
       "RandomForestClassifier(max_depth=5, max_features=5, min_samples_leaf=5,\n",
       "                       n_estimators=1000)"
      ]
     },
     "execution_count": 49,
     "metadata": {},
     "output_type": "execute_result"
    }
   ],
   "source": [
    "from sklearn.ensemble import RandomForestClassifier\n",
    "\n",
    "# Create the model with your desired parameters\n",
    "clf = RandomForestClassifier(criterion= 'gini', \n",
    "                            max_depth= 5, \n",
    "                            max_features= 5, \n",
    "                            min_samples_leaf= 5, \n",
    "                            min_samples_split= 2, \n",
    "                            n_estimators= 1000)\n",
    "\n",
    "# Fit the model on the training data\n",
    "clf.fit(X_train, y_train)\n"
   ]
  },
  {
   "cell_type": "code",
   "execution_count": 50,
   "id": "3dcc4db5",
   "metadata": {},
   "outputs": [
    {
     "name": "stdout",
     "output_type": "stream",
     "text": [
      "Accuracy: 0.61\n"
     ]
    }
   ],
   "source": [
    "from sklearn.metrics import accuracy_score\n",
    "\n",
    "# Make predictions on the test data\n",
    "y_pred = clf.predict(X_test)\n",
    "\n",
    "# Calculate accuracy\n",
    "accuracy = accuracy_score(y_test, y_pred)\n",
    "print(\"Accuracy:\", accuracy)\n"
   ]
  },
  {
   "cell_type": "code",
   "execution_count": 51,
   "id": "0712e769",
   "metadata": {
    "scrolled": true
   },
   "outputs": [
    {
     "name": "stdout",
     "output_type": "stream",
     "text": [
      "Classification report\n",
      "              precision    recall  f1-score   support\n",
      "\n",
      "           0       0.55      0.95      0.70        96\n",
      "           1       0.86      0.30      0.44       104\n",
      "\n",
      "    accuracy                           0.61       200\n",
      "   macro avg       0.71      0.62      0.57       200\n",
      "weighted avg       0.71      0.61      0.57       200\n",
      "\n"
     ]
    }
   ],
   "source": [
    "#classification report:\n",
    "from sklearn.metrics import classification_report, confusion_matrix, accuracy_score\n",
    "\n",
    "print('Classification report')\n",
    "print(classification_report(y_test, y_pred))"
   ]
  }
 ],
 "metadata": {
  "kernelspec": {
   "display_name": "Python 3 (ipykernel)",
   "language": "python",
   "name": "python3"
  },
  "language_info": {
   "codemirror_mode": {
    "name": "ipython",
    "version": 3
   },
   "file_extension": ".py",
   "mimetype": "text/x-python",
   "name": "python",
   "nbconvert_exporter": "python",
   "pygments_lexer": "ipython3",
   "version": "3.10.9"
  }
 },
 "nbformat": 4,
 "nbformat_minor": 5
}
