{
 "cells": [
  {
   "cell_type": "markdown",
   "id": "01dfc24e",
   "metadata": {},
   "source": [
    "# Purpose of Project: \n",
    "\n",
    "Sarcasm is something we use in face-to-face conversations to make light of a situation or joke around with friends. We know something/someone is sarcastic from their facial expressions, tone of voice, and perhaps the way they phrase their sentiments. However, this is dificult to detect over text or other forms of media since there is only the physical text we have. Because of this, people mistakenly misunderstand one another which leads to uneccesary conflicts. \n",
    "\n",
    "By creating this NLP project, I hope to identify a way to determine sarcastic comments by identifying what words are common in sarcastic comments. I will first run a portion of th edataset to train my model to learn words common in sarcastic comments then run a new batch of the sarcastic comments dataset to see if my theory holds true."
   ]
  },
  {
   "cell_type": "markdown",
   "id": "b619360a",
   "metadata": {},
   "source": [
    "# Traning Dataset\n",
    "\n"
   ]
  },
  {
   "cell_type": "markdown",
   "id": "c6a402ff",
   "metadata": {},
   "source": [
    "# Analyze Data"
   ]
  },
  {
   "cell_type": "code",
   "execution_count": 1,
   "id": "af50d12e",
   "metadata": {},
   "outputs": [
    {
     "name": "stderr",
     "output_type": "stream",
     "text": [
      "C:\\Users\\journ\\AppData\\Local\\Temp\\ipykernel_10520\\1871648106.py:6: FutureWarning: Passing a negative integer is deprecated in version 1.0 and will not be supported in future version. Instead, use None to not limit the column width.\n",
      "  pd.set_option(\"display.max_colwidth\",-1)\n"
     ]
    },
    {
     "data": {
      "text/html": [
       "<div>\n",
       "<style scoped>\n",
       "    .dataframe tbody tr th:only-of-type {\n",
       "        vertical-align: middle;\n",
       "    }\n",
       "\n",
       "    .dataframe tbody tr th {\n",
       "        vertical-align: top;\n",
       "    }\n",
       "\n",
       "    .dataframe thead th {\n",
       "        text-align: right;\n",
       "    }\n",
       "</style>\n",
       "<table border=\"1\" class=\"dataframe\">\n",
       "  <thead>\n",
       "    <tr style=\"text-align: right;\">\n",
       "      <th></th>\n",
       "      <th>Y</th>\n",
       "      <th>text</th>\n",
       "    </tr>\n",
       "  </thead>\n",
       "  <tbody>\n",
       "    <tr>\n",
       "      <th>0</th>\n",
       "      <td>1</td>\n",
       "      <td>thirtysomething scientists unveil doomsday clock of hair loss</td>\n",
       "    </tr>\n",
       "    <tr>\n",
       "      <th>1</th>\n",
       "      <td>0</td>\n",
       "      <td>dem rep totally nails why congress is falling short on gender racial equality</td>\n",
       "    </tr>\n",
       "    <tr>\n",
       "      <th>2</th>\n",
       "      <td>0</td>\n",
       "      <td>eat your veggies 9 deliciously different recipes</td>\n",
       "    </tr>\n",
       "    <tr>\n",
       "      <th>3</th>\n",
       "      <td>1</td>\n",
       "      <td>inclement weather prevents liar from getting to work</td>\n",
       "    </tr>\n",
       "    <tr>\n",
       "      <th>4</th>\n",
       "      <td>1</td>\n",
       "      <td>mother comes pretty close to using word streaming correctly</td>\n",
       "    </tr>\n",
       "    <tr>\n",
       "      <th>...</th>\n",
       "      <td>...</td>\n",
       "      <td>...</td>\n",
       "    </tr>\n",
       "    <tr>\n",
       "      <th>20028</th>\n",
       "      <td>1</td>\n",
       "      <td>tollbooth attendant wishes just one high speed chase would crash through entry bar</td>\n",
       "    </tr>\n",
       "    <tr>\n",
       "      <th>20029</th>\n",
       "      <td>0</td>\n",
       "      <td>emotional intelligence needs moral rudder</td>\n",
       "    </tr>\n",
       "    <tr>\n",
       "      <th>20030</th>\n",
       "      <td>1</td>\n",
       "      <td>man putting off starting family to focus on treading water in career for few years</td>\n",
       "    </tr>\n",
       "    <tr>\n",
       "      <th>20031</th>\n",
       "      <td>0</td>\n",
       "      <td>the 8 most important lessons from my first year out of college</td>\n",
       "    </tr>\n",
       "    <tr>\n",
       "      <th>20032</th>\n",
       "      <td>1</td>\n",
       "      <td>priscilla chan leaves mark zuckerberg for onion social ceo</td>\n",
       "    </tr>\n",
       "  </tbody>\n",
       "</table>\n",
       "<p>20033 rows × 2 columns</p>\n",
       "</div>"
      ],
      "text/plain": [
       "       Y  \\\n",
       "0      1   \n",
       "1      0   \n",
       "2      0   \n",
       "3      1   \n",
       "4      1   \n",
       "...   ..   \n",
       "20028  1   \n",
       "20029  0   \n",
       "20030  1   \n",
       "20031  0   \n",
       "20032  1   \n",
       "\n",
       "                                                                                     text  \n",
       "0      thirtysomething scientists unveil doomsday clock of hair loss                       \n",
       "1      dem rep totally nails why congress is falling short on gender racial equality       \n",
       "2      eat your veggies 9 deliciously different recipes                                    \n",
       "3      inclement weather prevents liar from getting to work                                \n",
       "4      mother comes pretty close to using word streaming correctly                         \n",
       "...                                                            ...                         \n",
       "20028  tollbooth attendant wishes just one high speed chase would crash through entry bar  \n",
       "20029  emotional intelligence needs moral rudder                                           \n",
       "20030  man putting off starting family to focus on treading water in career for few years  \n",
       "20031  the 8 most important lessons from my first year out of college                      \n",
       "20032  priscilla chan leaves mark zuckerberg for onion social ceo                          \n",
       "\n",
       "[20033 rows x 2 columns]"
      ]
     },
     "execution_count": 1,
     "metadata": {},
     "output_type": "execute_result"
    }
   ],
   "source": [
    "# training data\n",
    "import pandas as pd\n",
    "import numpy as np\n",
    "\n",
    "pd.options.display.max_columns\n",
    "pd.set_option(\"display.max_colwidth\",-1)\n",
    "\n",
    "df_train = pd.read_csv(\"train.csv\")\n",
    "df_train"
   ]
  },
  {
   "cell_type": "code",
   "execution_count": 2,
   "id": "70671ff6",
   "metadata": {},
   "outputs": [
    {
     "data": {
      "text/plain": [
       "Y       0\n",
       "text    0\n",
       "dtype: int64"
      ]
     },
     "execution_count": 2,
     "metadata": {},
     "output_type": "execute_result"
    }
   ],
   "source": [
    "# Identify any na values\n",
    "count_na = df_train.isnull().sum()\n",
    "count_na"
   ]
  },
  {
   "cell_type": "code",
   "execution_count": 3,
   "id": "d6d7e96c",
   "metadata": {},
   "outputs": [
    {
     "data": {
      "text/plain": [
       "(20033, 2)"
      ]
     },
     "execution_count": 3,
     "metadata": {},
     "output_type": "execute_result"
    }
   ],
   "source": [
    "#get number of points\n",
    "\n",
    "df_train.shape"
   ]
  },
  {
   "cell_type": "markdown",
   "id": "522a1337",
   "metadata": {},
   "source": [
    "Results below show near 50:50 data split, so fair classification training set for our model"
   ]
  },
  {
   "cell_type": "code",
   "execution_count": 4,
   "id": "908c1c12",
   "metadata": {
    "scrolled": true
   },
   "outputs": [
    {
     "data": {
      "image/png": "[encoded data removed]",
      "text/plain": [
       "<Figure size 600x500 with 1 Axes>"
      ]
     },
     "metadata": {},
     "output_type": "display_data"
    }
   ],
   "source": [
    "#distribution of sarcasm/non-sarcasm\n",
    "import matplotlib.pyplot as plt\n",
    "\n",
    "# Assuming the first column contains the labels (good or bad)\n",
    "labels = df_train.iloc[:, 0]\n",
    "\n",
    "# Count the number of SARCASTIC/NONSARCASTIC\n",
    "nonsarcastic = (labels == 0).sum()\n",
    "sarcastic = (labels == 1).sum()\n",
    "\n",
    "# Create a list for categories\n",
    "categories = [\"nonsarcastic\", \"sarcastic\"]\n",
    "\n",
    "# Create a list for counts\n",
    "counts = [nonsarcastic, sarcastic]\n",
    "\n",
    "# Create the bar chart\n",
    "plt.figure(figsize=(6, 5)) \n",
    "plt.bar(categories, counts, color=['skyblue', 'lightpink'])  \n",
    "plt.xlabel(\"Label\")\n",
    "plt.ylabel(\"Count\")\n",
    "plt.title(\"Number of Nonsarcastic and Sarcastic Comments\")\n",
    "plt.xticks(rotation=0)  \n",
    "plt.tight_layout()\n",
    "\n",
    "\n",
    "plt.show()"
   ]
  },
  {
   "cell_type": "code",
   "execution_count": 5,
   "id": "9392b0c8",
   "metadata": {},
   "outputs": [],
   "source": [
    "# preprocess\n",
    "#text feature engineer\n",
    "# one method? or ensemble?"
   ]
  },
  {
   "cell_type": "markdown",
   "id": "330a63a4",
   "metadata": {},
   "source": [
    "## Preprocessing"
   ]
  },
  {
   "cell_type": "markdown",
   "id": "be24513f",
   "metadata": {},
   "source": [
    "1) Tokenization\n",
    "\n",
    "chunk words in sentences into seperate entities."
   ]
  },
  {
   "cell_type": "code",
   "execution_count": 6,
   "id": "62a55462",
   "metadata": {},
   "outputs": [],
   "source": [
    "import os\n",
    "import nltk\n",
    "import nltk.corpus\n",
    "from nltk.corpus import stopwords\n",
    "from nltk.stem.porter import PorterStemmer\n",
    "\n",
    "\n",
    "ps = PorterStemmer()"
   ]
  },
  {
   "cell_type": "markdown",
   "id": "a57b66c6",
   "metadata": {},
   "source": [
    "2) Stemming\n",
    "\n",
    "Stemming - get root word (running -> run)\n",
    "\n",
    "Lemmentizing - root work from various forms of word (ran -> run , running -> run)\n",
    "\n",
    "Removing stop words"
   ]
  },
  {
   "cell_type": "code",
   "execution_count": 7,
   "id": "d275472a",
   "metadata": {},
   "outputs": [],
   "source": [
    "# finds important words in dataset tweets and stores them into array\n",
    "# drops stop words\n",
    "\n",
    "corpus = []\n",
    "import re\n",
    "\n",
    "#goes up to length of dataset\n",
    "for i in range(len(df_train[\"text\"])):\n",
    "    train_text = re.sub('[^a-zA-Z]',' ',df_train[\"text\"][i])\n",
    "    train_text = train_text.lower()\n",
    "    train_text = train_text.split()\n",
    "    clean_review = [ps.stem(word) for word in train_text if not word in set(stopwords.words('english'))]\n",
    "    clean_review = ' '.join(clean_review)\n",
    "    corpus.append(clean_review)\n",
    "    \n"
   ]
  },
  {
   "cell_type": "code",
   "execution_count": 8,
   "id": "1f79bb41",
   "metadata": {},
   "outputs": [
    {
     "data": {
      "text/plain": [
       "'thirtysometh scientist unveil doomsday clock hair loss'"
      ]
     },
     "execution_count": 8,
     "metadata": {},
     "output_type": "execute_result"
    }
   ],
   "source": [
    "# view cleaned text first and second row\n",
    "corpus[0]\n"
   ]
  },
  {
   "cell_type": "code",
   "execution_count": 9,
   "id": "c52d202d",
   "metadata": {
    "scrolled": true
   },
   "outputs": [
    {
     "data": {
      "text/plain": [
       "'dem rep total nail congress fall short gender racial equal'"
      ]
     },
     "execution_count": 9,
     "metadata": {},
     "output_type": "execute_result"
    }
   ],
   "source": [
    "corpus[1]"
   ]
  },
  {
   "cell_type": "markdown",
   "id": "ebdb2c67",
   "metadata": {},
   "source": [
    "3) Text Feature Extraction\n",
    "\n",
    "This step includes converting the comments themselves to numerical data. I used TF-IDF (Term Frequency-Inverse Document Frequency), which gives a value to each word in a text from 0 to 1 to determine its importance. Other feature extraction methods can be used [here](https://medium.com/@eskandar.sahel/exploring-feature-extraction-techniques-for-natural-language-processing-46052ee6514)\n",
    "\n",
    "Why I used TF-IDF: it determines importance of word in my collection of texts based on its frequency in both the singular text and collection of texts. This also accounts for all words by assigning them a value ranging from 0 - 1 instead of prioritizing top x words."
   ]
  },
  {
   "cell_type": "code",
   "execution_count": 10,
   "id": "01760ff3",
   "metadata": {},
   "outputs": [
    {
     "data": {
      "text/plain": [
       "array([[0.        , 0.        , 0.        , ..., 0.        , 0.        ,\n",
       "        0.        ],\n",
       "       [0.        , 0.        , 0.        , ..., 0.        , 0.        ,\n",
       "        0.        ],\n",
       "       [0.        , 0.        , 0.        , ..., 0.        , 0.        ,\n",
       "        0.        ],\n",
       "       ...,\n",
       "       [0.        , 0.        , 0.        , ..., 0.        , 0.        ,\n",
       "        0.        ],\n",
       "       [0.        , 0.        , 0.        , ..., 0.        , 0.        ,\n",
       "        0.        ],\n",
       "       [0.        , 0.        , 0.        , ..., 0.        , 0.        ,\n",
       "        0.46702837]])"
      ]
     },
     "execution_count": 10,
     "metadata": {},
     "output_type": "execute_result"
    }
   ],
   "source": [
    "# #method 1 - from my COVID_Tweet_NLP project\n",
    "\n",
    "# from sklearn.feature_extraction.text import TfidfVectorizer\n",
    "# vectorizer = TfidfVectorizer(max_features=2000, min_df=2, max_df = .6) #means \"ignore terms that appear in less than 2 messages\". use integer or decimal (percentage)?\n",
    "# #max_features = how many words we want to collect\n",
    "# #max_df = gets rid of words occuring in x% of documents\n",
    "\n",
    "# X = vectorizer.fit_transform(corpus).toarray() #comments to number\n",
    "\n",
    "# X"
   ]
  },
  {
   "cell_type": "code",
   "execution_count": 22,
   "id": "ed05f28a",
   "metadata": {},
   "outputs": [
    {
     "name": "stdout",
     "output_type": "stream",
     "text": [
      "TF-IDF:\n",
      "['aaa' 'aaron' 'aarp' 'aatish' 'ab' 'abandon' 'abaya' 'abba' 'abbey'\n",
      " 'abbi']\n",
      "[0. 0. 0. 0. 0. 0. 0. 0. 0. 0.]\n"
     ]
    }
   ],
   "source": [
    "# #method 2 - from eskandar.sahel\n",
    "\n",
    "from sklearn.feature_extraction.text import TfidfVectorizer\n",
    "\n",
    "# TF-IDF\n",
    "tfidf_vec = TfidfVectorizer()\n",
    "X_tfidf = tfidf_vec.fit_transform(corpus)\n",
    "print('TF-IDF:')\n",
    "print(tfidf_vec.get_feature_names_out()[:10])\n",
    "print(X_tfidf.toarray()[0][:10])\n",
    "\n",
    "X = tfidf_vec.fit_transform(corpus).toarray()"
   ]
  },
  {
   "cell_type": "code",
   "execution_count": 12,
   "id": "e752c39e",
   "metadata": {},
   "outputs": [
    {
     "data": {
      "text/plain": [
       "array([1, 0, 0, ..., 1, 0, 1], dtype=int64)"
      ]
     },
     "execution_count": 12,
     "metadata": {},
     "output_type": "execute_result"
    }
   ],
   "source": [
    "y = df_train.iloc[ : , 0].values\n",
    "y"
   ]
  },
  {
   "cell_type": "code",
   "execution_count": null,
   "id": "424c2264",
   "metadata": {},
   "outputs": [],
   "source": []
  },
  {
   "attachments": {
    "image.png": {
     "image/png": "[encoded data removed]"
    }
   },
   "cell_type": "markdown",
   "id": "a26894b0",
   "metadata": {},
   "source": [
    "## Running Preprocessed Data - Random Forrest (RF)\n",
    "\n",
    "Why use RF: It makes multiple trees that model out the many different paths it can take to classify input material. The classification that the most number of decision treees lead to is the final classification that the model predicts.\n",
    "![image.png](attachment:image.png)\n",
    "\n",
    "Credit: Datacamp"
   ]
  },
  {
   "cell_type": "code",
   "execution_count": 14,
   "id": "c7bd55e2",
   "metadata": {},
   "outputs": [],
   "source": [
    "# from sklearn.model_selection import train_test_split\n",
    "# X_train, X_test, y_train, y_test = train_test_split(X,y,test_size = .2, random_state = 42)"
   ]
  },
  {
   "cell_type": "code",
   "execution_count": 23,
   "id": "0eee9226",
   "metadata": {},
   "outputs": [],
   "source": [
    "from sklearn.ensemble import RandomForestClassifier\n",
    "from sklearn.model_selection import cross_val_score\n",
    "# cross validation score\n",
    "labels = df_train.Y\n",
    "models = [\n",
    "    RandomForestClassifier(n_estimators=100, max_depth=5, random_state=0),\n",
    "]\n",
    "\n",
    "cross_value_scored = []\n",
    "for model in models:\n",
    "    model_name = model.__class__.__name__\n",
    "    accuracies= cross_val_score(model, X, labels, scoring = 'accuracy', cv = 5)\n",
    "    for accuracy in accuracies:\n",
    "        cross_value_scored.append((model_name, accuracy))"
   ]
  },
  {
   "cell_type": "code",
   "execution_count": 24,
   "id": "bf159aae",
   "metadata": {},
   "outputs": [
    {
     "data": {
      "text/html": [
       "<div>\n",
       "<style scoped>\n",
       "    .dataframe tbody tr th:only-of-type {\n",
       "        vertical-align: middle;\n",
       "    }\n",
       "\n",
       "    .dataframe tbody tr th {\n",
       "        vertical-align: top;\n",
       "    }\n",
       "\n",
       "    .dataframe thead th {\n",
       "        text-align: right;\n",
       "    }\n",
       "</style>\n",
       "<table border=\"1\" class=\"dataframe\">\n",
       "  <thead>\n",
       "    <tr style=\"text-align: right;\">\n",
       "      <th></th>\n",
       "      <th>Mean Accuracy</th>\n",
       "      <th>Standard deviation</th>\n",
       "    </tr>\n",
       "    <tr>\n",
       "      <th>model_name</th>\n",
       "      <th></th>\n",
       "      <th></th>\n",
       "    </tr>\n",
       "  </thead>\n",
       "  <tbody>\n",
       "    <tr>\n",
       "      <th>RandomForestClassifier</th>\n",
       "      <td>0.565865</td>\n",
       "      <td>0.010628</td>\n",
       "    </tr>\n",
       "  </tbody>\n",
       "</table>\n",
       "</div>"
      ],
      "text/plain": [
       "                        Mean Accuracy  Standard deviation\n",
       "model_name                                               \n",
       "RandomForestClassifier  0.565865       0.010628          "
      ]
     },
     "execution_count": 24,
     "metadata": {},
     "output_type": "execute_result"
    }
   ],
   "source": [
    "# make a dataframe of cross_val_scor\n",
    "df_cv = pd.DataFrame(cross_value_scored, columns =['model_name', 'accuracy'])\n",
    "acc = pd.concat([df_cv.groupby('model_name').accuracy.mean(),df_cv.groupby('model_name').accuracy.std()], axis= 1,ignore_index=True)\n",
    "acc.columns = ['Mean Accuracy', 'Standard deviation']\n",
    "acc"
   ]
  }
 ],
 "metadata": {
  "kernelspec": {
   "display_name": "Python 3 (ipykernel)",
   "language": "python",
   "name": "python3"
  },
  "language_info": {
   "codemirror_mode": {
    "name": "ipython",
    "version": 3
   },
   "file_extension": ".py",
   "mimetype": "text/x-python",
   "name": "python",
   "nbconvert_exporter": "python",
   "pygments_lexer": "ipython3",
   "version": "3.10.9"
  }
 },
 "nbformat": 4,
 "nbformat_minor": 5
}
